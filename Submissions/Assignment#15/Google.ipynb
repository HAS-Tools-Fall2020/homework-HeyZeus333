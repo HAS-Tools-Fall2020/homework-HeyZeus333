{
  "nbformat": 4,
  "nbformat_minor": 0,
  "metadata": {
    "colab": {
      "name": "Google.ipynb",
      "provenance": [],
      "collapsed_sections": []
    },
    "kernelspec": {
      "name": "python3",
      "display_name": "Python 3"
    }
  },
  "cells": [
    {
      "cell_type": "code",
      "metadata": {
        "id": "8oxFGv0b3vbS"
      },
      "source": [
        "import os\n",
        "import pandas as pd\n",
        "import numpy as np\n",
        "import matplotlib.pyplot as plt\n",
        "import statistics\n",
        "%matplotlib inline"
      ],
      "execution_count": 1,
      "outputs": []
    },
    {
      "cell_type": "code",
      "metadata": {
        "id": "sv4VfyMQ3wUe"
      },
      "source": [
        "# Replace parts of url with variables\n",
        "site = '09506000'\n",
        "start = '2020-08-22'\n",
        "end = '2020-12-05'  # Update end date each week to Saturday\n",
        "\n",
        "url = \"https://waterdata.usgs.gov/nwis/dv?cb_00060=on&format=rdb&site_no=\" + \\\n",
        "    site + \"&referred_module=sw&period=&begin_date=\" + start + \"&end_date=\" + \\\n",
        "    end\n",
        "data = pd.read_table(url, skiprows=30, names=['agency_cd', 'site_no',\n",
        "                                              'datetime', 'flow', 'code'],\n",
        "                     parse_dates=['datetime'])"
      ],
      "execution_count": 2,
      "outputs": []
    },
    {
      "cell_type": "code",
      "metadata": {
        "id": "VNcVXaoy3wcq"
      },
      "source": [
        "flow_weekly = data.resample(\"W-SAT\", on='datetime').mean()"
      ],
      "execution_count": 3,
      "outputs": []
    },
    {
      "cell_type": "code",
      "metadata": {
        "id": "f82qKeE83wjF"
      },
      "source": [
        "for i in range(1, 2):\n",
        "    flow_weekly['flow_tm%s' % i] = flow_weekly['flow'].shift(i)"
      ],
      "execution_count": 4,
      "outputs": []
    },
    {
      "cell_type": "code",
      "metadata": {
        "id": "-kQZAEqs3wqO"
      },
      "source": [
        "# finds the weekly percent change\n",
        "pch = []\n",
        "for i in range(2,len(flow_weekly)):\n",
        "    pch.append((flow_weekly['flow'][i]-flow_weekly['flow_tm1'][i])/flow_weekly['flow_tm1'][i])\n"
      ],
      "execution_count": 5,
      "outputs": []
    },
    {
      "cell_type": "code",
      "metadata": {
        "colab": {
          "base_uri": "https://localhost:8080/"
        },
        "id": "xQ-QsRY73wxY",
        "outputId": "1cb1e1c4-1097-47f9-cf00-8834e9c79b51"
      },
      "source": [
        "meanch = statistics.mean(pch[10:]) \n",
        "\n",
        "wk1 = flow_weekly['flow'][15] + flow_weekly['flow'][15] * meanch\n",
        "wk2 = wk1 + wk1 * meanch\n",
        "print(wk1, wk2)"
      ],
      "execution_count": 6,
      "outputs": [
        {
          "output_type": "stream",
          "text": [
            "169.43007919363396 180.8693628703218\n"
          ],
          "name": "stdout"
        }
      ]
    },
    {
      "cell_type": "code",
      "metadata": {
        "id": "8jIFkmTj3w4O"
      },
      "source": [
        "site = '09506000'\n",
        "start = '2010-08-22'\n",
        "end = '2020-12-05'  # Update end date each week to Saturday\n",
        "\n",
        "url = \"https://waterdata.usgs.gov/nwis/dv?cb_00060=on&format=rdb&site_no=\" + \\\n",
        "    site + \"&referred_module=sw&period=&begin_date=\" + start + \"&end_date=\" + \\\n",
        "    end\n",
        "data = pd.read_table(url, skiprows=30, names=['agency_cd', 'site_no',\n",
        "                                              'datetime', 'flow', 'code'],\n",
        "                     parse_dates=['datetime'])\n",
        "data['year'] = pd.DatetimeIndex(data['datetime']).year\n",
        "data['month'] = pd.DatetimeIndex(data['datetime']).month\n",
        "data['day'] = pd.DatetimeIndex(data['datetime']).day"
      ],
      "execution_count": 7,
      "outputs": []
    },
    {
      "cell_type": "code",
      "metadata": {
        "id": "uHd686Eb4SuC"
      },
      "source": [
        "# Aggregate flow values to weekly\n",
        "flow_weekly = data.resample(\"W-SAT\", on='datetime').mean()\n",
        "flow_weekly = flow_weekly[(flow_weekly.flow <= 400)]\n",
        "# getting rid of 2020 data fo next cell\n",
        "data = data[(data.flow <= 400) & (data.year < 2020)]"
      ],
      "execution_count": 8,
      "outputs": []
    },
    {
      "cell_type": "code",
      "metadata": {
        "id": "0ua3Qt5h4S5h"
      },
      "source": [
        "weeklytemp = []\n",
        "for i in range(8, 13):\n",
        "    q = 0.1\n",
        "    weeklytemp.append(data['flow'][(data['month'] == i)\n",
        "                                    & (data['day'] <= 7)].quantile(q))\n",
        "    weeklytemp.append(data['flow'][(data['month'] == i) & (data['day'] > 7) &\n",
        "                                    (data['day'] <= 14)].quantile(q))\n",
        "    weeklytemp.append(data['flow'][(data['month'] == i) & (data['day'] > 14)\n",
        "                                    & (data['day'] <= 21)].quantile(q))\n",
        "    weeklytemp.append(data['flow'][(data['month'] == i)\n",
        "                                    & (data['day'] >= 22)].quantile(q))\n",
        "weeklytemp = weeklytemp[3:19]"
      ],
      "execution_count": 9,
      "outputs": []
    },
    {
      "cell_type": "code",
      "metadata": {
        "colab": {
          "base_uri": "https://localhost:8080/",
          "height": 304
        },
        "id": "qLIecIHD4TBS",
        "outputId": "14061cf1-4ee4-4383-bd53-808a4630353c"
      },
      "source": [
        "weeks = []\n",
        "\n",
        "for i in range(16):\n",
        "    weeks.append('week# ' '%s' % (i+1))\n",
        "\n",
        "plt.style.use('seaborn-whitegrid')\n",
        "\n",
        "plt.scatter(x=weeks, y=weeklytemp, marker='o', label='predicted flow')\n",
        "plt.scatter(x=weeks[0:14],\n",
        "            y=flow_weekly.flow[(flow_weekly['year'] == 2020)\n",
        "            & (flow_weekly['month'] >= 8) & (flow_weekly['day'] >= 20) |\n",
        "            (flow_weekly['year'] == 2020) & (flow_weekly['month'] >= 9)],\n",
        "            marker='o', label='observed')\n",
        "\n",
        "plt.ylabel('Flow (cfs)')\n",
        "plt.ylim([0, 200])\n",
        "plt.title('Weekly Discharge Prediction')\n",
        "plt.xticks(rotation=45, fontsize=10)\n",
        "plt.legend()\n",
        "plt.savefig('Discharge_Prediction.png')"
      ],
      "execution_count": 10,
      "outputs": [
        {
          "output_type": "display_data",
          "data": {
            "image/png": "[encoded data removed]",
            "text/plain": [
              "<Figure size 432x288 with 1 Axes>"
            ]
          },
          "metadata": {
            "tags": []
          }
        }
      ]
    }
  ]
}