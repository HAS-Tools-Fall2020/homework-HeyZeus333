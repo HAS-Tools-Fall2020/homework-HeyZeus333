{
 "cells": [
  {
   "cell_type": "markdown",
   "metadata": {},
   "source": [
    "# Jacob Ridlinghafer\n",
    "### Code Review #2\n",
    "#### 11/23/2020"
   ]
  },
  {
   "cell_type": "markdown",
   "metadata": {},
   "source": [
    "# Grade \n",
    "6/6 - Great work. I like all of your print statements along they way and also how you have all of your functions separated out in their own file. I appricatet how you provided all of the steps but I think you could probably shorten this notebook considerably not to explain all the intermediate steps. Also,from a user perspectiveI think some additional narration in your markdown cells would be nice. \n",
    "\n",
    "Additional notes for the future: \n",
    "- Add a block to the top of your code with all of the file reads\n",
    "- Similiarly its good to have a block at the top where you set all of your user defined variables\n",
    "\n"
   ]
  },
  {
   "cell_type": "markdown",
   "metadata": {},
   "source": [
    "### Step 1: import packages for the predictions as well as for graphing"
   ]
  },
  {
   "cell_type": "code",
   "execution_count": 2,
   "metadata": {},
   "outputs": [
    {
     "name": "stderr",
     "output_type": "stream",
     "text": [
      "C:\\Users\\Jakey\\Anaconda3\\lib\\site-packages\\xarray\\core\\merge.py:10: FutureWarning: The Panel class is removed from pandas. Accessing it from the top-level namespace will also be removed in the next version\n",
      "  PANDAS_TYPES = (pd.Series, pd.DataFrame, pd.Panel)\n"
     ]
    }
   ],
   "source": [
    "import pandas as pd\n",
    "import matplotlib.pyplot as plt\n",
    "import xarray as xr\n",
    "from sklearn.linear_model import LinearRegression\n",
    "import numpy as np\n",
    "import j_func as mf\n",
    "import os\n",
    "\n",
    "# for graphing\n",
    "import matplotlib.pyplot as plt\n",
    "import geopandas as gpd\n",
    "import fiona\n",
    "from shapely.geometry import Point\n",
    "import contextily as ctx"
   ]
  },
  {
   "cell_type": "markdown",
   "metadata": {},
   "source": [
    "### Step 2: The next two cells analyse and import datasets and find relevant info (prate)"
   ]
  },
  {
   "cell_type": "code",
   "execution_count": 3,
   "metadata": {},
   "outputs": [
    {
     "data": {
      "text/plain": [
       "<xarray.Dataset>\n",
       "Dimensions:    (lat: 5, lon: 6, nbnds: 2, time: 2150)\n",
       "Coordinates:\n",
       "  * lat        (lat) float32 39.047 37.1422 35.2375 33.3328 31.4281\n",
       "  * lon        (lon) float32 240.0 241.875 243.75 245.625 247.5 249.375\n",
       "  * time       (time) datetime64[ns] 2015-01-01 2015-01-02 ... 2020-11-19\n",
       "Dimensions without coordinates: nbnds\n",
       "Data variables:\n",
       "    prate      (time, lat, lon) float32 ...\n",
       "    time_bnds  (time, nbnds) float64 ...\n",
       "Attributes:\n",
       "    Conventions:    COARDS\n",
       "    title:          mean daily NMC reanalysis (2014)\n",
       "    history:        Mon Nov 23 02:01:33 2020: ncrcat -O -d lat,30.000000,40.0...\n",
       "    description:    Data is from NMC initialized reanalysis\\n(4x/day).  It co...\n",
       "    platform:       Model\n",
       "    dataset_title:  NCEP-NCAR Reanalysis 1\n",
       "    References:     http://www.psl.noaa.gov/data/gridded/data.ncep.reanalysis..."
      ]
     },
     "execution_count": 3,
     "metadata": {},
     "output_type": "execute_result"
    }
   ],
   "source": [
    "# Net CDF file historical time series\n",
    "data_path = os.path.join('../../data',\n",
    "                         'Prate.nc')\n",
    "\n",
    "# Read in the dataset as an x-array\n",
    "dataset = xr.open_dataset(data_path)\n",
    "# shows prate is parameter of interest\n",
    "dataset"
   ]
  },
  {
   "cell_type": "code",
   "execution_count": 4,
   "metadata": {},
   "outputs": [
    {
     "data": {
      "text/plain": [
       "OrderedDict([('Conventions', 'COARDS'),\n",
       "             ('title', 'mean daily NMC reanalysis (2014)'),\n",
       "             ('history',\n",
       "              'Mon Nov 23 02:01:33 2020: ncrcat -O -d lat,30.000000,40.000000 -d lon,240.000000,250.000000 -d time,0,2149 -n 6,4,1 /Datasets/ncep.reanalysis.dailyavgs/surface_gauss/prate.sfc.gauss.2015.nc /Public/www/X174.18.157.18.327.2.1.32.nc\\ncreated 2013/12 by Hoop (netCDF2.3)'),\n",
       "             ('description',\n",
       "              'Data is from NMC initialized reanalysis\\n(4x/day).  It consists of T62 variables interpolated to\\npressure surfaces from model (sigma) surfaces.'),\n",
       "             ('platform', 'Model'),\n",
       "             ('dataset_title', 'NCEP-NCAR Reanalysis 1'),\n",
       "             ('References',\n",
       "              'http://www.psl.noaa.gov/data/gridded/data.ncep.reanalysis.html')])"
      ]
     },
     "execution_count": 4,
     "metadata": {},
     "output_type": "execute_result"
    }
   ],
   "source": [
    "# We can inspect the metadata of the file like this:\n",
    "metadata = dataset.attrs\n",
    "metadata"
   ]
  },
  {
   "cell_type": "markdown",
   "metadata": {},
   "source": [
    "### Step 3: find the closest lat and lon values to our site and seclude that data"
   ]
  },
  {
   "cell_type": "code",
   "execution_count": 6,
   "metadata": {},
   "outputs": [
    {
     "name": "stdout",
     "output_type": "stream",
     "text": [
      "[39.047  37.1422 35.2375 33.3328 31.4281]\n",
      "[240.    241.875 243.75  245.625 247.5   249.375]\n"
     ]
    }
   ],
   "source": [
    "# shows the list of values\n",
    "print(dataset['prate']['lat'].values)\n",
    "print(dataset['prate']['lon'].values)"
   ]
  },
  {
   "cell_type": "code",
   "execution_count": 8,
   "metadata": {},
   "outputs": [
    {
     "name": "stdout",
     "output_type": "stream",
     "text": [
      "Long, Lat values: 247.5 33.3328\n"
     ]
    }
   ],
   "source": [
    "# Now lets take a slice: Grabbing data for just one point\n",
    "# 34.56, 248.15\n",
    "lat = dataset[\"prate\"][\"lat\"].values[-2]\n",
    "lon = dataset[\"prate\"][\"lon\"].values[-2]\n",
    "print(\"Long, Lat values:\", lon, lat)"
   ]
  },
  {
   "cell_type": "markdown",
   "metadata": {},
   "source": [
    "### Step 4: Graph to see general trends over the 5 year period and convert to units of inches per day in a data frame"
   ]
  },
  {
   "cell_type": "code",
   "execution_count": 9,
   "metadata": {},
   "outputs": [
    {
     "name": "stderr",
     "output_type": "stream",
     "text": [
      "C:\\Users\\Jakey\\Anaconda3\\lib\\site-packages\\pandas\\plotting\\_matplotlib\\converter.py:103: FutureWarning: Using an implicitly registered datetime converter for a matplotlib plotting method. The converter was registered by pandas on import. Future versions of pandas will require you to explicitly register matplotlib converters.\n",
      "\n",
      "To register the converters:\n",
      "\t>>> from pandas.plotting import register_matplotlib_converters\n",
      "\t>>> register_matplotlib_converters()\n",
      "  warnings.warn(msg, FutureWarning)\n"
     ]
    },
    {
     "data": {
      "image/png": "[encoded data removed]",
      "text/plain": [
       "<Figure size 432x288 with 1 Axes>"
      ]
     },
     "metadata": {
      "needs_background": "light"
     },
     "output_type": "display_data"
    }
   ],
   "source": [
    "precip = dataset[\"prate\"].sel(lat=lat, lon=lon)\n",
    "precip.shape\n",
    "\n",
    "# use x-array to plot timeseries\n",
    "precip.plot.line()\n",
    "precip_val = precip.values\n",
    "\n",
    "# Convert to dataframe\n",
    "precip = precip.to_dataframe()\n",
    "\n",
    "# converts to inches/day\n",
    "precip['prate'] = precip['prate'] * 86400 / 25.4\n"
   ]
  },
  {
   "cell_type": "markdown",
   "metadata": {},
   "source": [
    "### Step 5: Repeated above process for max tempertature"
   ]
  },
  {
   "cell_type": "code",
   "execution_count": 10,
   "metadata": {},
   "outputs": [
    {
     "data": {
      "text/plain": [
       "<xarray.Dataset>\n",
       "Dimensions:    (lat: 37, lon: 6, nbnds: 2, time: 2150)\n",
       "Coordinates:\n",
       "  * lat        (lat) float32 39.047 37.1422 35.2375 ... -27.6186 -29.5234\n",
       "  * lon        (lon) float32 240.0 241.875 243.75 245.625 247.5 249.375\n",
       "  * time       (time) datetime64[ns] 2015-01-01 2015-01-02 ... 2020-11-19\n",
       "Dimensions without coordinates: nbnds\n",
       "Data variables:\n",
       "    tmax       (time, lat, lon) float32 ...\n",
       "    time_bnds  (time, nbnds) float64 ...\n",
       "Attributes:\n",
       "    Conventions:    COARDS\n",
       "    title:          daily NMC reanalysis (2014)\n",
       "    history:        Mon Nov 23 01:58:29 2020: ncrcat -O -d lat,-30.000000,40....\n",
       "    description:    Data is from NMC initialized reanalysis\\n(4x/day).  It co...\n",
       "    platform:       Model\n",
       "    dataset_title:  NCEP-NCAR Reanalysis 1\n",
       "    References:     http://www.psl.noaa.gov/data/gridded/data.ncep.reanalysis..."
      ]
     },
     "execution_count": 10,
     "metadata": {},
     "output_type": "execute_result"
    }
   ],
   "source": [
    "# Second dataset\n",
    "# Net CDF file historical time series\n",
    "data_path = os.path.join('../../data',\n",
    "                         'MaxT.nc')\n",
    "\n",
    "# Read in the dataset as an x-array\n",
    "dataset = xr.open_dataset(data_path)\n",
    "# look at it shows that air is parameter of interest\n",
    "dataset"
   ]
  },
  {
   "cell_type": "code",
   "execution_count": 11,
   "metadata": {},
   "outputs": [
    {
     "data": {
      "text/plain": [
       "OrderedDict([('Conventions', 'COARDS'),\n",
       "             ('title', 'daily NMC reanalysis (2014)'),\n",
       "             ('history',\n",
       "              'Mon Nov 23 01:58:29 2020: ncrcat -O -d lat,-30.000000,40.000000 -d lon,240.000000,250.000000 -d time,0,2149 -n 6,4,1 /Datasets/ncep.reanalysis.dailyavgs/surface_gauss/tmax.2m.gauss.2015.nc /Public/www/X174.18.157.18.327.1.58.28.nc\\ncreated 2013/12 by Hoop (netCDF2.3)'),\n",
       "             ('description',\n",
       "              'Data is from NMC initialized reanalysis\\n(4x/day).  It consists of T62 variables interpolated to\\npressure surfaces from model (sigma) surfaces.'),\n",
       "             ('platform', 'Model'),\n",
       "             ('dataset_title', 'NCEP-NCAR Reanalysis 1'),\n",
       "             ('References',\n",
       "              'http://www.psl.noaa.gov/data/gridded/data.ncep.reanalysis.html')])"
      ]
     },
     "execution_count": 11,
     "metadata": {},
     "output_type": "execute_result"
    }
   ],
   "source": [
    "# We can inspect the metadata of the file like this:\n",
    "metadata = dataset.attrs\n",
    "metadata"
   ]
  },
  {
   "cell_type": "code",
   "execution_count": 12,
   "metadata": {},
   "outputs": [
    {
     "name": "stdout",
     "output_type": "stream",
     "text": [
      "[ 39.047     37.1422    35.2375    33.3328    31.4281    29.5234\n",
      "  27.6186    25.7139    23.8092    21.9044    19.9997    18.095\n",
      "  16.1902    14.2855    12.3808    10.47604    8.57131    6.66657\n",
      "   4.76184    2.8571     0.952368  -0.952368  -2.8571    -4.76184\n",
      "  -6.66657   -8.57131  -10.47604  -12.3808   -14.2855   -16.1902\n",
      " -18.095    -19.9997   -21.9044   -23.8092   -25.7139   -27.6186\n",
      " -29.5234  ]\n",
      "[240.    241.875 243.75  245.625 247.5   249.375]\n"
     ]
    }
   ],
   "source": [
    "print(dataset['tmax']['lat'].values)\n",
    "print(dataset['tmax']['lon'].values)"
   ]
  },
  {
   "cell_type": "code",
   "execution_count": 13,
   "metadata": {},
   "outputs": [
    {
     "name": "stdout",
     "output_type": "stream",
     "text": [
      "Long, Lat values: 247.5 35.2375\n"
     ]
    }
   ],
   "source": [
    "# 248.15, 34.56\n",
    "# Now lets take a slice: Grabbing data for just one point\n",
    "lat = dataset[\"tmax\"][\"lat\"].values[2]\n",
    "lon = dataset[\"tmax\"][\"lon\"].values[-2]\n",
    "print(\"Long, Lat values:\", lon, lat)"
   ]
  },
  {
   "cell_type": "markdown",
   "metadata": {},
   "source": [
    "### The graph below shows extremely oscilatory behavior as you'd expect from temperature"
   ]
  },
  {
   "cell_type": "code",
   "execution_count": 14,
   "metadata": {},
   "outputs": [
    {
     "data": {
      "image/png": "[encoded data removed]",
      "text/plain": [
       "<Figure size 432x288 with 1 Axes>"
      ]
     },
     "metadata": {
      "needs_background": "light"
     },
     "output_type": "display_data"
    }
   ],
   "source": [
    "temp = dataset[\"tmax\"].sel(lat=lat, lon=lon)\n",
    "\n",
    "# use x-array to plot timeseries\n",
    "temp.plot.line()\n",
    "precip_val = temp.values\n",
    "\n",
    "# Conver to dataframe\n",
    "temp = temp.to_dataframe()\n",
    "\n",
    "# converts to celcius\n",
    "temp['tmax'] = temp['tmax'] - 273.15"
   ]
  },
  {
   "cell_type": "markdown",
   "metadata": {},
   "source": [
    "### Step 6: importing USGS streamflow data and compiling the above two dataframes all into one place"
   ]
  },
  {
   "cell_type": "code",
   "execution_count": 15,
   "metadata": {},
   "outputs": [],
   "source": [
    "# Replace parts of url with variables\n",
    "site = '09506000'\n",
    "start = '2015-01-01'\n",
    "end = '2020-11-21'  # Update end date each week to Saturday\n",
    "\n",
    "url = \"https://waterdata.usgs.gov/nwis/dv?cb_00060=on&format=rdb&site_no=\" + \\\n",
    "    site + \"&referred_module=sw&period=&begin_date=\" + start + \"&end_date=\" + \\\n",
    "    end\n",
    "data = pd.read_table(url, skiprows=30, names=['agency_cd', 'site_no',\n",
    "                                              'datetime', 'flow', 'code'],\n",
    "                     parse_dates=['datetime'])\n",
    "\n",
    "data = data.reset_index(drop=True)\n",
    "precip = precip.reset_index(drop=True)\n",
    "temp = temp.reset_index(drop=True)\n",
    "data = data.join(precip['prate'])\n",
    "data = data.join(temp['tmax'])\n",
    "\n",
    "info = [data['datetime'], data[\"flow\"], temp[\"tmax\"], precip['prate']]\n",
    "\n",
    "headers = ['datetime', \"flow\", \"temp\", \"precip\"]\n",
    "\n",
    "data2 = pd.concat(info, axis=1, keys=headers)\n",
    "pd.to_datetime(data2['datetime'])\n",
    "\n",
    "data2['year'] = pd.DatetimeIndex(data2['datetime']).year\n",
    "data2['month'] = pd.DatetimeIndex(data2['datetime']).month\n",
    "data2['day'] = pd.DatetimeIndex(data2['datetime']).day"
   ]
  },
  {
   "cell_type": "markdown",
   "metadata": {},
   "source": [
    "### Step 7: Resample data on a weekly basis and shift all variables \n",
    "\n",
    "    Note: data from times where flow is influenced by large floods is excluded, otherwise predictions would be far to high."
   ]
  },
  {
   "cell_type": "code",
   "execution_count": 16,
   "metadata": {},
   "outputs": [],
   "source": [
    "# Aggregate flow values to weekly\n",
    "flow_weekly = data2.resample(\"W-SAT\", on='datetime').mean()\n",
    "# picked 800 where I had been using 345 but predictions had been too low\n",
    "flow_weekly = flow_weekly[(flow_weekly.flow <= 800)]"
   ]
  },
  {
   "cell_type": "code",
   "execution_count": 17,
   "metadata": {},
   "outputs": [],
   "source": [
    "for i in range(1, 4):\n",
    "    flow_weekly['flow_tm%s' % i] = flow_weekly['flow'].shift(i)\n",
    "# done for temp as well\n",
    "for i in range(1, 3):\n",
    "    flow_weekly['temp%s' % i] = flow_weekly['temp'].shift(i)\n",
    "# done for precip as well\n",
    "for i in range(1, 3):\n",
    "    flow_weekly['precip%s' % i] = flow_weekly['precip'].shift(i)"
   ]
  },
  {
   "cell_type": "markdown",
   "metadata": {},
   "source": [
    "### Step 8: Set a training period for the data to use in the linear regression model"
   ]
  },
  {
   "cell_type": "code",
   "execution_count": 18,
   "metadata": {},
   "outputs": [],
   "source": [
    "train = flow_weekly[3:-13][['flow', 'flow_tm1', 'flow_tm2', 'flow_tm3',\n",
    "                            'precip', 'temp',\n",
    "                            'temp1', 'precip1']]"
   ]
  },
  {
   "cell_type": "code",
   "execution_count": 19,
   "metadata": {},
   "outputs": [
    {
     "name": "stdout",
     "output_type": "stream",
     "text": [
      "coefficient of determination: 0.51\n",
      "intercept: 156.6\n",
      "slope: [ 4.2000e-01  9.0000e-02  6.0000e-02  1.9853e+02 -1.8900e+00 -1.5700e+00]\n"
     ]
    }
   ],
   "source": [
    "model4 = LinearRegression()\n",
    "y = train['flow'].values\n",
    "x4 = train[['flow_tm1', 'flow_tm2', 'flow_tm3',\n",
    "            'precip', 'temp', 'temp1']]\n",
    "model4.fit(x4, y)\n",
    "r_sq = model4.score(x4, y)\n",
    "# Print model parameters and r2\n",
    "print('coefficient of determination:', np.round(r_sq, 2))\n",
    "print('intercept:', np.round(model4.intercept_, 2))\n",
    "print('slope:', np.round(model4.coef_, 2))"
   ]
  },
  {
   "cell_type": "markdown",
   "metadata": {},
   "source": [
    "### Step 9: Gather known data and forecasted data to use as inputs into model to run for 2 weeks"
   ]
  },
  {
   "cell_type": "code",
   "execution_count": 20,
   "metadata": {},
   "outputs": [
    {
     "name": "stdout",
     "output_type": "stream",
     "text": [
      "The prediction for week 1 is 168.88 cfs and week 2 is 182.64 cfs\n"
     ]
    }
   ],
   "source": [
    "weeklypred = []\n",
    "T = [18.41, 20.67]\n",
    "T2 = [25.43, 18.41]\n",
    "P = [0, 0]\n",
    "lastweekx3 = [flow_weekly.flow[-3]]\n",
    "lastweekx2 = [flow_weekly.flow[-2]]\n",
    "lastweek = [flow_weekly.flow[-1]]\n",
    "# empty list for predictions\n",
    "weeklypred_4 = []\n",
    "\n",
    "wk = 2\n",
    "mf.prediction(wk, lastweek, lastweekx2, lastweekx3,\n",
    "              P, T, T2, model4.intercept_, model4.coef_, weeklypred)"
   ]
  },
  {
   "cell_type": "markdown",
   "metadata": {},
   "source": [
    "### Step 10: for a long term seasonal period make a weekly quantile prediction for temperature\n",
    "    Note: q = 10 was selected due to the extremely hot/ dry weather we had this summer"
   ]
  },
  {
   "cell_type": "code",
   "execution_count": 21,
   "metadata": {},
   "outputs": [],
   "source": [
    "weeklytemp = []\n",
    "for i in range(8, 13):\n",
    "    q = 0.9\n",
    "    weeklytemp.append(data2['temp'][(data2['month'] == i)\n",
    "                                    & (data2['day'] <= 7)].quantile(q))\n",
    "    weeklytemp.append(data2['temp'][(data2['month'] == i) & (data2['day'] > 7) &\n",
    "                                    (data2['day'] <= 14)].quantile(q))\n",
    "    weeklytemp.append(data2['temp'][(data2['month'] == i) & (data2['day'] > 14)\n",
    "                                    & (data2['day'] <= 21)].quantile(q))\n",
    "    weeklytemp.append(data2['temp'][(data2['month'] == i)\n",
    "                                    & (data2['day'] >= 22)].quantile(q))\n",
    "weeklytemp = weeklytemp[3:19]\n",
    "\n",
    "# copied then temp 1 week prior to semester start\n",
    "# is inserted at begining of list\n",
    "weeklytemp2 = weeklytemp.copy()\n",
    "weeklytemp2[0:0] = [41.2]\n",
    "\n",
    "# rounding\n",
    "weeklytemp = np.round(weeklytemp, decimals=2)\n",
    "weeklytemp2 = np.round(weeklytemp, decimals=2)"
   ]
  },
  {
   "cell_type": "markdown",
   "metadata": {},
   "source": [
    "### Step 11: Is similar to Step 9 but uses historical records to determine T and recent flow"
   ]
  },
  {
   "cell_type": "code",
   "execution_count": 22,
   "metadata": {},
   "outputs": [],
   "source": [
    "# projecting 16 weeks into the future\n",
    "# The + 13 is added to start at 8/21\n",
    "\n",
    "P = [0]\n",
    "lastweekx3 = [flow_weekly.flow[-(3 + 13)]]\n",
    "lastweekx2 = [flow_weekly.flow[-(2 + 13)]]\n",
    "lastweek = [flow_weekly.flow[-(1 + 13)]]\n",
    "weeklypred = []\n",
    "wk = 13\n",
    "\n",
    "mf.pred_sem(lastweek, lastweekx2, lastweekx3, P, weeklytemp,\n",
    "            weeklytemp2, model4.intercept_, model4.coef_, weeklypred)"
   ]
  },
  {
   "cell_type": "markdown",
   "metadata": {},
   "source": [
    "### Step 12: create a graph of predicted flow (blue dots) compared with observed flow (orange dots)"
   ]
  },
  {
   "cell_type": "code",
   "execution_count": 23,
   "metadata": {},
   "outputs": [
    {
     "data": {
      "image/png": "[encoded data removed]",
      "text/plain": [
       "<Figure size 432x288 with 1 Axes>"
      ]
     },
     "metadata": {},
     "output_type": "display_data"
    }
   ],
   "source": [
    "# creates a plot of my prediction for each week of the semester\n",
    "weeks = []\n",
    "\n",
    "for i in range(16):\n",
    "    weeks.append('week# ' '%s' % (i+1))\n",
    "\n",
    "plt.style.use('seaborn-whitegrid')\n",
    "\n",
    "plt.scatter(x=weeks, y=weeklypred, marker='o', label='predicted flow')\n",
    "plt.scatter(x=weeks[0:12],\n",
    "            y=flow_weekly.flow[(flow_weekly['year'] == 2020)\n",
    "            & (flow_weekly['month'] >= 8) & (flow_weekly['day'] >= 20) |\n",
    "            (flow_weekly['year'] == 2020) & (flow_weekly['month'] >= 9)],\n",
    "            marker='o', label='observed')\n",
    "\n",
    "plt.ylabel('Flow (cfs)')\n",
    "plt.ylim([0, 200])\n",
    "plt.title('Weekly Discharge Prediction')\n",
    "plt.xticks(rotation=45, fontsize=10)\n",
    "plt.legend()\n",
    "plt.savefig('Discharge_Prediction.png')"
   ]
  },
  {
   "cell_type": "markdown",
   "metadata": {},
   "source": [
    "### Step 13: Start to make a map starting with USGS stream gages"
   ]
  },
  {
   "cell_type": "code",
   "execution_count": 24,
   "metadata": {},
   "outputs": [],
   "source": [
    "# Gauges II USGS stream gauge dataset:\n",
    "# Download here:\n",
    "# https://water.usgs.gov/GIS/metadata/usgswrd/XML\n",
    "# /gagesII_Sept2011.xml#stdorder\n",
    "\n",
    "# Reading it using geopandas\n",
    "file = os.path.join('../../data', 'gagesII_9322_sept30_2011.shp')\n",
    "gages = gpd.read_file(file)\n",
    "\n",
    "# Zoom  in and just look at AZ\n",
    "gages.columns\n",
    "gages.STATE.unique()\n",
    "gages_AZ = gages[gages['STATE'] == 'AZ']"
   ]
  },
  {
   "cell_type": "markdown",
   "metadata": {},
   "source": [
    "### Step 14: find HUC boundaries (basin boundaries)"
   ]
  },
  {
   "cell_type": "code",
   "execution_count": 25,
   "metadata": {},
   "outputs": [],
   "source": [
    "# adding HUC boundaries\n",
    "# Watershed boundaries for the lower colorado\n",
    "file = os.path.join('../../data', 'WBD_15_HU2_GDB.gdb')\n",
    "fiona.listlayers(file)\n",
    "HUC6 = gpd.read_file(file, layer=\"WBDHU6\")"
   ]
  },
  {
   "cell_type": "markdown",
   "metadata": {},
   "source": [
    "### Step 15: Get Arizona state boundaries to make boundaries more clear to the eye."
   ]
  },
  {
   "cell_type": "code",
   "execution_count": 26,
   "metadata": {},
   "outputs": [
    {
     "data": {
      "image/png": "[encoded data removed]",
      "text/plain": [
       "<Figure size 360x360 with 1 Axes>"
      ]
     },
     "metadata": {},
     "output_type": "display_data"
    }
   ],
   "source": [
    "# importing boundary of states close to arizona\n",
    "# https://catalog.data.gov/dataset/usgs-national-boundary-dataset-nbd\n",
    "# -for-arizona-20171220-state-or-territory-filegdb-10-14ecfe\n",
    "file = os.path.join('../../data', 'GOVTUNIT_Arizona_State_GDB.gdb')\n",
    "fiona.listlayers(file)\n",
    "statebound = gpd.read_file(file, layer=\"GU_StateOrTerritory\")\n",
    "\n",
    "# plotting boundary\n",
    "fig, ax = plt.subplots(figsize=(5, 5))\n",
    "# statebound.plot(ax=ax)\n",
    "# ax.set_title(\"statebound\")\n",
    "statebound.boundary.plot(ax=ax, color=None,\n",
    "                         edgecolor='black', linewidth=1.5)\n",
    "plt.show()"
   ]
  },
  {
   "cell_type": "code",
   "execution_count": 27,
   "metadata": {},
   "outputs": [],
   "source": [
    "# Add some point\n",
    "# STream gauge:  34.44833333, -111.7891667\n",
    "point_list = np.array([[-111.7891667, 34.44833333]])\n",
    "\n",
    "# make these into spatial features\n",
    "point_geom = [Point(xy) for xy in point_list]\n",
    "point_geom\n",
    "\n",
    "# mape a dataframe of the site\n",
    "point_df = gpd.GeoDataFrame(point_geom, columns=['geometry'],\n",
    "                            crs=HUC6.crs)"
   ]
  },
  {
   "cell_type": "markdown",
   "metadata": {},
   "source": [
    "# Step 16: convert to similar cordinate system and map\n",
    "Note: The next cell does not work in Jupyter (works in vscode just fine) for some reason on my computer I tryed several different itterations of this, but could not get anything to work. since the graphs require this step I just decided to insert the graphs this created below the code."
   ]
  },
  {
   "cell_type": "raw",
   "metadata": {},
   "source": [
    "# reprojecting to normal cordinates\n",
    "points_project = point_df.to_crs(epsg=4326)\n",
    "gages_AZ = gages_AZ.to_crs(epsg=4326)\n",
    "HUC6_project = HUC6.to_crs(epsg=4326)\n",
    "statebounds = statebound.to_crs(epsg=4326)"
   ]
  },
  {
   "cell_type": "code",
   "execution_count": null,
   "metadata": {},
   "outputs": [],
   "source": [
    "# combination map of all 5 layers\n",
    "fig, ax = plt.subplots(figsize=(8, 8))\n",
    "HUC6_project.boundary.plot(ax=ax, color=None, label='HUC boundaries',\n",
    "                           edgecolor='grey', linewidth=1.1)\n",
    "gages_AZ.plot(column='DRAIN_SQKM', categorical=False, label='gages',\n",
    "              legend=True, markersize=25, cmap='brg',\n",
    "              ax=ax)\n",
    "points_project.plot(ax=ax, color='c', marker='*', label='site-gage',\n",
    "                    markersize=345)\n",
    "statebounds.boundary.plot(ax=ax, color=None, label='stateline',\n",
    "                          edgecolor='black', linewidth=1.5)\n",
    "ctx.add_basemap(ax, source=ctx.providers.Stamen.TonerLite, crs={'init': 'epsg:4326'})\n",
    "plt.ylim(31, 38)\n",
    "plt.xlim(-115, -109)\n",
    "ax.legend()"
   ]
  },
  {
   "cell_type": "markdown",
   "metadata": {},
   "source": [
    "![](assets/AZ.png)"
   ]
  },
  {
   "cell_type": "markdown",
   "metadata": {},
   "source": [
    "### Zooming in on the basin and adding a topographic map to show geological features"
   ]
  },
  {
   "cell_type": "code",
   "execution_count": null,
   "metadata": {},
   "outputs": [],
   "source": [
    "# shows the basin contributing to our river\n",
    "fig, ax = plt.subplots(figsize=(8, 8))\n",
    "HUC6_project.boundary.plot(ax=ax, color=None, label='HUC boundaries',\n",
    "                           edgecolor='black', linewidth=1.5)\n",
    "gages_AZ.plot(column='DRAIN_SQKM', categorical=False, label='gages',\n",
    "              legend=True, markersize=25, cmap='brg',\n",
    "              ax=ax)\n",
    "points_project.plot(ax=ax, color='c', marker='*', label='site-gage',\n",
    "                    markersize=345)\n",
    "ctx.add_basemap(ax, source=ctx.providers.OpenTopoMap, crs={'init': 'epsg:4326'})\n",
    "plt.ylim(33.5, 36)\n",
    "plt.xlim(-113.25, -111)\n",
    "ax.legend()"
   ]
  },
  {
   "cell_type": "markdown",
   "metadata": {},
   "source": [
    "![](assets/Basin.png)"
   ]
  }
 ],
 "metadata": {
  "kernelspec": {
   "display_name": "Python 3",
   "language": "python",
   "name": "python3"
  },
  "language_info": {
   "codemirror_mode": {
    "name": "ipython",
    "version": 3
   },
   "file_extension": ".py",
   "mimetype": "text/x-python",
   "name": "python",
   "nbconvert_exporter": "python",
   "pygments_lexer": "ipython3",
   "version": "3.7.4"
  }
 },
 "nbformat": 4,
 "nbformat_minor": 2
}